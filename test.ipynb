{
 "cells": [
  {
   "cell_type": "code",
   "execution_count": 1,
   "metadata": {},
   "outputs": [],
   "source": [
    "from datasets import load_dataset"
   ]
  },
  {
   "cell_type": "code",
   "execution_count": 2,
   "metadata": {},
   "outputs": [
    {
     "data": {
      "application/vnd.jupyter.widget-view+json": {
       "model_id": "d8765ac76d9e4c1e852947fb4927edfe",
       "version_major": 2,
       "version_minor": 0
      },
      "text/plain": [
       "Downloading readme:   0%|          | 0.00/3.35k [00:00<?, ?B/s]"
      ]
     },
     "metadata": {},
     "output_type": "display_data"
    },
    {
     "data": {
      "application/vnd.jupyter.widget-view+json": {
       "model_id": "931e73e9a1a84b01ae0ad2b0a1c5dcfc",
       "version_major": 2,
       "version_minor": 0
      },
      "text/plain": [
       "Downloading data files:   0%|          | 0/1 [00:00<?, ?it/s]"
      ]
     },
     "metadata": {},
     "output_type": "display_data"
    },
    {
     "data": {
      "application/vnd.jupyter.widget-view+json": {
       "model_id": "a8387f922a404ef78852a3389e7053f3",
       "version_major": 2,
       "version_minor": 0
      },
      "text/plain": [
       "Downloading data:   0%|          | 0.00/21.8M [00:00<?, ?B/s]"
      ]
     },
     "metadata": {},
     "output_type": "display_data"
    },
    {
     "data": {
      "application/vnd.jupyter.widget-view+json": {
       "model_id": "daf31fe2f0d346efa45d5ec9a1521426",
       "version_major": 2,
       "version_minor": 0
      },
      "text/plain": [
       "Extracting data files:   0%|          | 0/1 [00:00<?, ?it/s]"
      ]
     },
     "metadata": {},
     "output_type": "display_data"
    },
    {
     "data": {
      "application/vnd.jupyter.widget-view+json": {
       "model_id": "34ba2b2b8ebf499c9c3e873ad65b3d3f",
       "version_major": 2,
       "version_minor": 0
      },
      "text/plain": [
       "Generating train split: 0 examples [00:00, ? examples/s]"
      ]
     },
     "metadata": {},
     "output_type": "display_data"
    }
   ],
   "source": [
    "dataset = load_dataset(\"b-mc2/sql-create-context\")"
   ]
  },
  {
   "cell_type": "code",
   "execution_count": 39,
   "metadata": {},
   "outputs": [],
   "source": [
    "from transformers import T5ForConditionalGeneration, T5Tokenizer"
   ]
  },
  {
   "cell_type": "code",
   "execution_count": 27,
   "metadata": {},
   "outputs": [],
   "source": [
    "import torch"
   ]
  },
  {
   "cell_type": "code",
   "execution_count": 28,
   "metadata": {},
   "outputs": [],
   "source": [
    "device = torch.device('cuda' if torch.cuda.is_available() else 'cpu')"
   ]
  },
  {
   "cell_type": "code",
   "execution_count": 40,
   "metadata": {},
   "outputs": [],
   "source": [
    "model = T5ForConditionalGeneration.from_pretrained('thangved/text2sql').to(device) # type: ignore"
   ]
  },
  {
   "cell_type": "code",
   "execution_count": 6,
   "metadata": {},
   "outputs": [
    {
     "name": "stderr",
     "output_type": "stream",
     "text": [
      "You are using the default legacy behaviour of the <class 'transformers.models.t5.tokenization_t5.T5Tokenizer'>. This is expected, and simply means that the `legacy` (previous) behavior will be used so nothing changes for you. If you want to use the new behaviour, set `legacy=False`. This should only be set if you understand what it means, and thouroughly read the reason why this was added as explained in https://github.com/huggingface/transformers/pull/24565\n",
      "Special tokens have been added in the vocabulary, make sure the associated word embeddings are fine-tuned or trained.\n"
     ]
    }
   ],
   "source": [
    "tokenizer = T5Tokenizer.from_pretrained('t5-small')"
   ]
  },
  {
   "cell_type": "code",
   "execution_count": 10,
   "metadata": {},
   "outputs": [],
   "source": [
    "import pandas as pd"
   ]
  },
  {
   "cell_type": "code",
   "execution_count": 54,
   "metadata": {},
   "outputs": [],
   "source": [
    "test_ds = dataset['train'][:100] # type: ignore"
   ]
  },
  {
   "cell_type": "code",
   "execution_count": 55,
   "metadata": {},
   "outputs": [],
   "source": [
    "test_df = pd.DataFrame(test_ds)"
   ]
  },
  {
   "cell_type": "code",
   "execution_count": 56,
   "metadata": {},
   "outputs": [
    {
     "data": {
      "text/html": [
       "<div>\n",
       "<style scoped>\n",
       "    .dataframe tbody tr th:only-of-type {\n",
       "        vertical-align: middle;\n",
       "    }\n",
       "\n",
       "    .dataframe tbody tr th {\n",
       "        vertical-align: top;\n",
       "    }\n",
       "\n",
       "    .dataframe thead th {\n",
       "        text-align: right;\n",
       "    }\n",
       "</style>\n",
       "<table border=\"1\" class=\"dataframe\">\n",
       "  <thead>\n",
       "    <tr style=\"text-align: right;\">\n",
       "      <th></th>\n",
       "      <th>answer</th>\n",
       "      <th>question</th>\n",
       "      <th>context</th>\n",
       "    </tr>\n",
       "  </thead>\n",
       "  <tbody>\n",
       "    <tr>\n",
       "      <th>0</th>\n",
       "      <td>SELECT COUNT(*) FROM head WHERE age &gt; 56</td>\n",
       "      <td>How many heads of the departments are older th...</td>\n",
       "      <td>CREATE TABLE head (age INTEGER)</td>\n",
       "    </tr>\n",
       "    <tr>\n",
       "      <th>1</th>\n",
       "      <td>SELECT name, born_state, age FROM head ORDER B...</td>\n",
       "      <td>List the name, born state and age of the heads...</td>\n",
       "      <td>CREATE TABLE head (name VARCHAR, born_state VA...</td>\n",
       "    </tr>\n",
       "    <tr>\n",
       "      <th>2</th>\n",
       "      <td>SELECT creation, name, budget_in_billions FROM...</td>\n",
       "      <td>List the creation year, name and budget of eac...</td>\n",
       "      <td>CREATE TABLE department (creation VARCHAR, nam...</td>\n",
       "    </tr>\n",
       "    <tr>\n",
       "      <th>3</th>\n",
       "      <td>SELECT MAX(budget_in_billions), MIN(budget_in_...</td>\n",
       "      <td>What are the maximum and minimum budget of the...</td>\n",
       "      <td>CREATE TABLE department (budget_in_billions IN...</td>\n",
       "    </tr>\n",
       "    <tr>\n",
       "      <th>4</th>\n",
       "      <td>SELECT AVG(num_employees) FROM department WHER...</td>\n",
       "      <td>What is the average number of employees of the...</td>\n",
       "      <td>CREATE TABLE department (num_employees INTEGER...</td>\n",
       "    </tr>\n",
       "  </tbody>\n",
       "</table>\n",
       "</div>"
      ],
      "text/plain": [
       "                                              answer  ...                                            context\n",
       "0           SELECT COUNT(*) FROM head WHERE age > 56  ...                    CREATE TABLE head (age INTEGER)\n",
       "1  SELECT name, born_state, age FROM head ORDER B...  ...  CREATE TABLE head (name VARCHAR, born_state VA...\n",
       "2  SELECT creation, name, budget_in_billions FROM...  ...  CREATE TABLE department (creation VARCHAR, nam...\n",
       "3  SELECT MAX(budget_in_billions), MIN(budget_in_...  ...  CREATE TABLE department (budget_in_billions IN...\n",
       "4  SELECT AVG(num_employees) FROM department WHER...  ...  CREATE TABLE department (num_employees INTEGER...\n",
       "\n",
       "[5 rows x 3 columns]"
      ]
     },
     "execution_count": 56,
     "metadata": {},
     "output_type": "execute_result"
    }
   ],
   "source": [
    "test_df.head()"
   ]
  },
  {
   "cell_type": "code",
   "execution_count": 57,
   "metadata": {},
   "outputs": [],
   "source": [
    "def converter_x(x:dict):\n",
    "    question = x['question']\n",
    "    context = x['context']\n",
    "    \n",
    "    return f'query for: {question}? </s> tables: {context}'\n",
    "\n",
    "def converter_x_tensor(x: dict):\n",
    "    question = x['question']\n",
    "    context = x['context']\n",
    "    \n",
    "    return tokenizer(\n",
    "        f'query for: {question}? ',\n",
    "        f'tables: {context}',\n",
    "        max_length=200,\n",
    "        padding=\"max_length\",\n",
    "        truncation=True,\n",
    "        pad_to_max_length=True,\n",
    "        add_special_tokens=True,\n",
    "        return_tensors='pt'\n",
    "        ).to(device)\n",
    "\n",
    "def converter_y(x: dict):\n",
    "    answer = x['answer']\n",
    "    return answer\n",
    "\n",
    "\n",
    "X = list(map(converter_x, test_df.iloc)) # type: ignore\n",
    "X_tensor = list(map(converter_x_tensor, test_df.iloc)) # type: ignore\n",
    "Y = list(map(converter_y, test_df.iloc)) # type: ignore"
   ]
  },
  {
   "cell_type": "code",
   "execution_count": 34,
   "metadata": {},
   "outputs": [
    {
     "name": "stderr",
     "output_type": "stream",
     "text": [
      "2023-11-15 12:29:28.073277: I tensorflow/core/util/port.cc:111] oneDNN custom operations are on. You may see slightly different numerical results due to floating-point round-off errors from different computation orders. To turn them off, set the environment variable `TF_ENABLE_ONEDNN_OPTS=0`.\n",
      "2023-11-15 12:29:28.147805: I tensorflow/tsl/cuda/cudart_stub.cc:28] Could not find cuda drivers on your machine, GPU will not be used.\n",
      "2023-11-15 12:29:28.545409: E tensorflow/compiler/xla/stream_executor/cuda/cuda_dnn.cc:9342] Unable to register cuDNN factory: Attempting to register factory for plugin cuDNN when one has already been registered\n",
      "2023-11-15 12:29:28.545458: E tensorflow/compiler/xla/stream_executor/cuda/cuda_fft.cc:609] Unable to register cuFFT factory: Attempting to register factory for plugin cuFFT when one has already been registered\n",
      "2023-11-15 12:29:28.547259: E tensorflow/compiler/xla/stream_executor/cuda/cuda_blas.cc:1518] Unable to register cuBLAS factory: Attempting to register factory for plugin cuBLAS when one has already been registered\n",
      "2023-11-15 12:29:28.706546: I tensorflow/core/platform/cpu_feature_guard.cc:182] This TensorFlow binary is optimized to use available CPU instructions in performance-critical operations.\n",
      "To enable the following instructions: AVX2 AVX512F AVX512_VNNI FMA, in other operations, rebuild TensorFlow with the appropriate compiler flags.\n",
      "2023-11-15 12:29:31.151960: W tensorflow/compiler/tf2tensorrt/utils/py_utils.cc:38] TF-TRT Warning: Could not find TensorRT\n"
     ]
    }
   ],
   "source": [
    "import evaluate"
   ]
  },
  {
   "cell_type": "code",
   "execution_count": 35,
   "metadata": {},
   "outputs": [
    {
     "data": {
      "application/vnd.jupyter.widget-view+json": {
       "model_id": "116d612374aa44a59fc64020e000f1c9",
       "version_major": 2,
       "version_minor": 0
      },
      "text/plain": [
       "Downloading builder script:   0%|          | 0.00/5.94k [00:00<?, ?B/s]"
      ]
     },
     "metadata": {},
     "output_type": "display_data"
    },
    {
     "data": {
      "application/vnd.jupyter.widget-view+json": {
       "model_id": "efcdec9fa6d14167bdbb1b20d8168577",
       "version_major": 2,
       "version_minor": 0
      },
      "text/plain": [
       "Downloading extra modules:   0%|          | 0.00/1.55k [00:00<?, ?B/s]"
      ]
     },
     "metadata": {},
     "output_type": "display_data"
    },
    {
     "data": {
      "application/vnd.jupyter.widget-view+json": {
       "model_id": "beac835b526b4653ac1e277c5c6ef025",
       "version_major": 2,
       "version_minor": 0
      },
      "text/plain": [
       "Downloading extra modules:   0%|          | 0.00/3.34k [00:00<?, ?B/s]"
      ]
     },
     "metadata": {},
     "output_type": "display_data"
    }
   ],
   "source": [
    "bleu = evaluate.load('bleu')"
   ]
  },
  {
   "cell_type": "code",
   "execution_count": 58,
   "metadata": {},
   "outputs": [
    {
     "name": "stdout",
     "output_type": "stream",
     "text": [
      "SELECT COUNT(*) FROM head WHERE age > 56\n",
      "SELECT name, born_state, age FROM head ORDER BY age\n",
      "SELECT creation, name, budget_in_billions FROM department\n",
      "SELECT MAX(budget_in_billions) FROM department\n",
      "SELECT AVG(num_employees) FROM department WHERE ranking BETWEEN 10 AND 15\n",
      "SELECT name FROM head WHERE born_state = 'California'\n",
      "SELECT DISTINCT T1.creation FROM department AS T1 JOIN management AS T2 ON T1.department_id = T2.department_id WHERE T2.born_state = 'Alabama'\n",
      "SELECT born_state FROM head GROUP BY born_state HAVING COUNT(*) >= 3\n",
      "SELECT COUNT(*) FROM department GROUP BY creation ORDER BY COUNT(*) DESC LIMIT 1\n",
      "SELECT T1.name, T1.num_employees FROM department AS T1 JOIN management AS T2 ON T1.department_id = T2.department_id WHERE T2.temporary_acting = 'Yes'\n",
      "SELECT COUNT(DISTINCT temporary_acting) FROM management\n",
      "SELECT COUNT(*) FROM department AS T1 JOIN management AS T2 ON T1.department_id = T2.department_id WHERE T2.department_id = \"Supp\" AND T1.department_id > T2.department_id\n",
      "SELECT DISTINCT t1.age FROM head AS t1 JOIN management AS t2 ON t1.head_id = t2.head_id WHERE t2.temporary_acting = 'P'\n",
      "SELECT T1.born_state FROM department AS T1 JOIN head AS T2 ON T1.department_id = T2.department_id JOIN management AS T3 ON T1.head_id = T3.head_id WHERE T3.name = 'Treasury' INTERSECT SELECT T1.born_state FROM management AS T1 JOIN department AS T3 ON T3.department_id = T3.department_id AND T3.name = 'Homeland Security'\n",
      "SELECT T1.department_id, T1.name, COUNT(*) FROM department AS T1 JOIN management AS T2 ON T1.department_id = T2.department_id GROUP BY T1.department_id HAVING COUNT(*) > 1\n",
      "SELECT head_id, name FROM head WHERE name LIKE '%Ha%'\n",
      "SELECT COUNT(*) FROM farm\n",
      "SELECT COUNT(*) FROM farm ORDER BY Total_Horses\n",
      "SELECT Hosts FROM farm_competition WHERE Theme > \"Aliens\"\n",
      "SELECT Theme FROM farm_competition ORDER BY YEAR\n",
      "SELECT AVG(Working_Horses) FROM farm WHERE Total_Horses > 5000\n",
      "SELECT MAX(Cows) FROM farm\n",
      "SELECT COUNT(DISTINCT Status) FROM city\n",
      "SELECT Official_Name FROM city ORDER BY Population DESC\n",
      "SELECT Official_Name, Status FROM city ORDER BY Population DESC LIMIT 1\n",
      "SELECT T1.Year, T1.Official_Name FROM city AS T1 JOIN farm_competition AS T2 ON T1.Host_city_ID = T2.City_ID\n",
      "SELECT T1.Official_Name FROM city AS T1 JOIN farm_competition AS T2 ON T1.Host_city_ID = T2.Host_city_ID GROUP BY T1.Host_city_ID HAVING COUNT(*) > 1\n",
      "SELECT T1.Status FROM city AS T1 JOIN farm_competition AS T2 ON T1.Host_city_ID = T2.City_ID GROUP BY T1.Host_city_ID ORDER BY COUNT(*) DESC LIMIT 1\n",
      "SELECT T1.Theme FROM farm_competition AS T1 JOIN city AS T2 ON T1.Host_city_ID = T2.City_ID WHERE T2.Population > 1000\n",
      "SELECT Status, AVG(Population) FROM city GROUP BY Status\n",
      "SELECT Status FROM city ORDER BY Status\n",
      "SELECT Status FROM city GROUP BY Status ORDER BY COUNT(*) DESC LIMIT 1\n",
      "SELECT T1.Official_Name FROM city AS T1 JOIN farm_competition AS T2 ON T1.Host_city_ID = T2.Host_city_ID\n",
      "SELECT Status FROM city WHERE Population > 1500 GROUP BY Status HAVING COUNT(*)  500\n",
      "SELECT Official_Name FROM city WHERE Population > 1500 OR Population  500\n",
      "SELECT Census_Ranking FROM city WHERE Status > \"Village\"\n",
      "SELECT DISTINCT T1.course_name FROM courses AS T1 JOIN student_course_registrations AS T2 ON T1.course_id = T2.course_id GROUP BY T1.course_name ORDER BY COUNT(*) DESC LIMIT 1\n",
      "SELECT student_id FROM student_course_registrations ORDER BY student_id LIMIT 1\n",
      "SELECT T1.first_name, T1.last_name FROM people AS T1 JOIN candidates AS T2 ON T1.candidate_id = T2.candidate_id\n",
      "SELECT T1.student_id FROM students AS T1 JOIN student_course_attendance AS T2 ON T1.student_id = T2.student_id GROUP BY T1.student_id ORDER BY COUNT(*) DESC LIMIT 1\n",
      "SELECT student_id FROM student_course_attendance\n",
      "SELECT T1.student_id, T1.course_name FROM courses AS T1 JOIN student_course_registrations AS T2 ON T1.course_id = T2.course_id GROUP BY T1.student_id\n",
      "SELECT T2.student_details FROM student_course_registrations AS T1 JOIN students AS T2 ON T1.student_id = T2.student_id WHERE T2.registration_date = (SELECT MAX(registration_date) FROM student_course_registrations)\n",
      "SELECT COUNT(*) FROM course_course_attendance AS T1 JOIN student_course AS T2 ON T1.course_id = T2.course_id WHERE T2.course_name = 'English'\n",
      "SELECT COUNT(*) FROM courses AS t1 JOIN student_course_attendance AS t2 ON t1.course_id = t2.course_id WHERE t2.student_id = 171\n",
      "SELECT T1.candidate_id FROM people AS T1 JOIN candidates AS T2 ON T1.person_id = T2.candidate_id WHERE T2.email_address = \"stanley.monahan@example.org\"\n",
      "SELECT candidate_id FROM candidate_assessments WHERE assessment_date = \"Haupt-Haupt-Haupt-Haupt-Haupt-Haupt-Haupt-Haupt-Haupt-Haupt-Haupt-Haupt-Haupt-Haupt-Haupt-Haupt-Haupt-Haupt-Hass_\n",
      "SELECT T1.student_details FROM students AS T1 JOIN student_course_registrations AS T2 ON T1.student_id = T2.student_id GROUP BY T1.student_id ORDER BY COUNT(*) DESC LIMIT 1\n",
      "SELECT T1.student_id, COUNT(*) FROM students AS T1 JOIN student_course_registrations AS T2 ON T1.student_id = T2.student_id GROUP BY T1.student_id\n",
      "SELECT T1.course_name, COUNT(*) FROM students AS T1 JOIN student_course_registrations AS T2 ON T1.student_id = T2.student_id GROUP BY T1.student_id\n",
      "SELECT candidate_id FROM candidate_assessments WHERE asessment_outcome_code = \"Pass\"\n",
      "SELECT T1.cell_mobile_number FROM candidates AS T1 JOIN candidates AS T2 ON T1.candidate_id = T2.candidate_id JOIN candidates AS T3 ON T1.person_id = T3.candidate_id WHERE T3.asessment_outcome_code = \"Fail\"\n",
      "SELECT student_id FROM student_course_attendance WHERE course_id = 301\n",
      "SELECT student_id FROM student_course_attendance WHERE course_id = \"301\"\n",
      "SELECT DISTINCT T1.city FROM addresses AS T1 JOIN people_addresses AS T2 ON T1.address_id = T2.address_id\n",
      "SELECT DISTINCT T1.city FROM addresses AS T1 JOIN people_addresses AS T2 ON T1.address_id = T2.address_id JOIN students AS T3 ON T1.person_id = T3.student_id\n",
      "SELECT course_name FROM courses ORDER BY course_name\n",
      "SELECT first_name FROM people ORDER BY first_name\n",
      "SELECT T1.student_id FROM student_course_registrations AS T1 JOIN student_course_attendance AS T2 ON T1.student_id = T2.student_id\n",
      "SELECT DISTINCT T1.course_id FROM student_course_registrations AS T1 JOIN student_course_attendance AS T2 ON T1.course_id = T2.course_id WHERE T2.student_id = 121\n",
      "SELECT T1.student_id FROM student_course_registrations AS T1 JOIN student_course_attendance AS T2 ON T1.student_id = T2.student_id WHERE T2.not_student_id IN (SELECT T1.student_id FROM student_course_registrations AS T1 JOIN student_course_attendance AS T2 ON T1.student_id = T2.student_id)\n",
      "SELECT T1.student_id FROM student_course_registrations AS T1 JOIN course_id AS T2 ON T1.course_id = T2.course_id ORDER BY T1.registration_date\n",
      "SELECT T1.student_id FROM student_course_attendance AS T1 JOIN courses AS T2 ON T1.course_id = T2.course_id WHERE T2.date_of_attendance = \"statistics\" ORDER BY T2.date_of_attendance\n",
      "SELECT date FROM weather WHERE max_temperature_f > 85\n",
      "SELECT name FROM station WHERE lat  37.5\n",
      "SELECT city FROM station GROUP BY city ORDER BY LAT DESC LIMIT 1\n",
      "SELECT start_station_name, end_station_name FROM trip WHERE id = 3\n",
      "SELECT AVG(lat), LENGTH(long) FROM station WHERE city = 'San Jose'\n",
      "SELECT id FROM trip WHERE duration LIKE '%Y' ORDER BY duration LIMIT 1\n",
      "SELECT SUM(duration) FROM trip WHERE bike_id = 636\n",
      "SELECT zip_code, AVG(mean_temperature_f) FROM weather GROUP BY zip_code ORDER BY AVG(mean_temperature_f) DESC\n",
      "SELECT COUNT(DISTINCT bike_id) FROM trip\n",
      "SELECT COUNT(DISTINCT city) FROM station\n",
      "SELECT COUNT(*) FROM station WHERE city = 'Montreal View'\n",
      "SELECT T2.name FROM status AS T1 JOIN station AS T2 ON T1.station_id = T2.id WHERE T2.bikes_available = 7\n",
      "SELECT start_station_name, start_station_id FROM trip WHERE start_date = \"August\" ORDER BY start_station_id DESC LIMIT 1\n",
      "SELECT bike_id FROM trip WHERE zip_code = 94002 ORDER BY bike_id LIMIT 1\n",
      "SELECT COUNT(*) FROM weather WHERE mean_humidity > 50 INTERSECT SELECT mean_visibility_miles FROM weather WHERE mean_visibility_miles > 8\n",
      "SELECT T2.lat, T2.long FROM station AS T1 JOIN trip AS T2 ON T1.id = T2.start_station_id ORDER BY T2.long LIMIT 1\n",
      "SELECT t1.id FROM status AS t1 JOIN station AS t2 ON t1.station_id = t2.station_id WHERE t2.city = \"San Francisco\" AND bikes_available > 10\n",
      "SELECT name, id FROM station WHERE bikes_available AVG(bikes_available) > 14 OR id = station WHERE installation_date = 'December'\n",
      "SELECT cloud_cover FROM weather ORDER BY zip_code DESC LIMIT 3\n",
      "SELECT zip_code FROM weather ORDER BY mean_sea_level_pressure_inches LIMIT 1\n",
      "SELECT AVG(t1.bikes_available) FROM station AS t1 JOIN status AS t2 ON t1.id = t2.station_id WHERE t2.city = \"Palo Alto\" AND t2.city = \"Palo Alto\"\n",
      "SELECT AVG(long) FROM station WHERE NOT id IN (SELECT station_id FROM status WHERE bikes_available > 10)\n",
      "SELECT date, zip_code FROM weather WHERE max_temperature_f = 80\n",
      "SELECT T1.id FROM trip AS T1 JOIN weather AS T2 ON T1.zip_code = T2.zip_code WHERE T2.zip_code = \"Answer\" AND T1.average_temperature_f > 60\n",
      "SELECT zip_code, COUNT(*) FROM weather WHERE max_wind_Speed_mph = 25\n",
      "SELECT date, zip_code FROM weather WHERE min_dew_point_f  (SELECT MIN(min_dew_point_f) FROM weather WHERE zip_code = 94107)\n",
      "SELECT t1.installation_date FROM trip AS t1 JOIN station AS t2 ON t1.id = t2.end_station_id\n",
      "SELECT id FROM trip WHERE start_station_id IN (SELECT id FROM station) ORDER BY dock_count DESC LIMIT 1\n",
      "SELECT COUNT(*) FROM trip WHERE NOT id IN (SELECT end_station_id FROM station WHERE city = 'San Francisco')\n",
      "SELECT date FROM weather WHERE EVENTS = \"Fog\" AND zip_code = 94107\n",
      "SELECT id FROM station WHERE lat > 37.4 AND bikes_available  7\n",
      "SELECT name FROM station WHERE bike_available > 10 AND id IN (SELECT id FROM status AS t1 JOIN station AS t2 ON t1.station_id = t2.station_id WHERE t2.city = 'San Jose') AND t2.name = 'San Jose'\n",
      "SELECT name, lat, city FROM station ORDER BY lat LIMIT 1\n",
      "SELECT date, mean_temperature_f, mean_humidity FROM weather WHERE max_gust_speed_mph = \"3\"\n",
      "SELECT DISTINCT city, COUNT(*) FROM station GROUP BY city HAVING COUNT(*) >= 15\n",
      "SELECT start_station_id, start_station_name FROM trip GROUP BY start_station_id HAVING COUNT(*) >= 200\n",
      "SELECT zip_code FROM weather WHERE mean_visibility_miles  10\n"
     ]
    }
   ],
   "source": [
    "answers = []\n",
    "\n",
    "for x_tensor in X_tensor:\n",
    "    y_pred = model.generate(input_ids=x_tensor['input_ids'], attention_mask=x_tensor['attention_mask'], max_length=128)\n",
    "    answer = tokenizer.decode(y_pred.flatten(), skip_special_tokens=True)\n",
    "    \n",
    "    print(answer)\n",
    "    \n",
    "    answers.append(answer)"
   ]
  },
  {
   "cell_type": "code",
   "execution_count": 59,
   "metadata": {},
   "outputs": [
    {
     "data": {
      "text/plain": [
       "{'bleu': 0.6950776947825641,\n",
       " 'precisions': [0.8435689455388181,\n",
       "  0.7533145841703496,\n",
       "  0.6651318543323567,\n",
       "  0.5910878112712975],\n",
       " 'brevity_penalty': 0.9831486212513595,\n",
       " 'length_ratio': 0.9832890239270794,\n",
       " 'translation_length': 2589,\n",
       " 'reference_length': 2633}"
      ]
     },
     "execution_count": 59,
     "metadata": {},
     "output_type": "execute_result"
    }
   ],
   "source": [
    "bleu.compute(predictions=answers, references=Y)"
   ]
  },
  {
   "cell_type": "code",
   "execution_count": null,
   "metadata": {},
   "outputs": [],
   "source": []
  }
 ],
 "metadata": {
  "kernelspec": {
   "display_name": "venv",
   "language": "python",
   "name": "python3"
  },
  "language_info": {
   "codemirror_mode": {
    "name": "ipython",
    "version": 3
   },
   "file_extension": ".py",
   "mimetype": "text/x-python",
   "name": "python",
   "nbconvert_exporter": "python",
   "pygments_lexer": "ipython3",
   "version": "3.11.4"
  }
 },
 "nbformat": 4,
 "nbformat_minor": 2
}
